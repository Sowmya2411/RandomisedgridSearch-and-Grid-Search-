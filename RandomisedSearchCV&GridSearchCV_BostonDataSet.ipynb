{
 "cells": [
  {
   "cell_type": "code",
   "execution_count": 1,
   "metadata": {},
   "outputs": [],
   "source": [
    "import pandas as pd\n",
    "import numpy as np"
   ]
  },
  {
   "cell_type": "code",
   "execution_count": 2,
   "metadata": {},
   "outputs": [
    {
     "name": "stderr",
     "output_type": "stream",
     "text": [
      "C:\\Users\\psais\\Anaconda3\\lib\\site-packages\\sklearn\\cross_validation.py:41: DeprecationWarning: This module was deprecated in version 0.18 in favor of the model_selection module into which all the refactored classes and functions are moved. Also note that the interface of the new CV iterators are different from that of this module. This module will be removed in 0.20.\n",
      "  \"This module will be removed in 0.20.\", DeprecationWarning)\n"
     ]
    }
   ],
   "source": [
    "from sklearn.tree import DecisionTreeRegressor\n",
    "from sklearn.model_selection import cross_val_score\n",
    "from sklearn.cross_validation import KFold\n",
    "from sklearn.ensemble import RandomForestRegressor\n",
    "from sklearn.model_selection import train_test_split\n",
    "from sklearn.model_selection import RandomizedSearchCV\n",
    "from sklearn.model_selection import  GridSearchCV"
   ]
  },
  {
   "cell_type": "code",
   "execution_count": 3,
   "metadata": {},
   "outputs": [],
   "source": [
    "filepath = \"C:/Users/psais/OneDrive/Desktop/sowmya/Subjects Sem 2/DataSets/Datasets for Predictive Modelling with Python-20190708T233651Z-001/Datasets for Predictive Modelling with Python/Chapter 8/Boston.csv\"\n",
    "\n",
    "data= pd.read_csv(filepath)\n",
    "data.head(3)\n",
    "data=data.sample(frac=1)"
   ]
  },
  {
   "cell_type": "code",
   "execution_count": 4,
   "metadata": {},
   "outputs": [],
   "source": [
    "colnames=data.columns.values.tolist()\n",
    "predictors=colnames[:13]\n",
    "target=colnames[13]\n",
    "X=data[predictors]\n",
    "Y=data[target]"
   ]
  },
  {
   "cell_type": "code",
   "execution_count": 5,
   "metadata": {},
   "outputs": [],
   "source": [
    "X_train, X_test,Y_train,Y_test = train_test_split(X,Y, test_size=0.33, random_state=42)"
   ]
  },
  {
   "cell_type": "code",
   "execution_count": 6,
   "metadata": {},
   "outputs": [],
   "source": [
    "# Hyperparameters using RandomisedSearchCv\n",
    "n_estimators = [int(x) for x in np.linspace(start = 50, stop = 100, num = 10)]\n",
    "# Number of features to consider at every split\n",
    "max_features = ['auto', 'sqrt']\n",
    "# Maximum number of levels in tree\n",
    "max_depth = [int(x) for x in np.linspace(2, 20, num = 11)]\n",
    "max_depth.append(None)\n",
    "# Minimum number of samples required to split a node\n",
    "min_samples_split = [2, 5, 10]\n",
    "# Minimum number of samples required at each leaf node\n",
    "min_samples_leaf = [1, 2, 4]\n",
    "# Method of selecting samples for training each tree\n",
    "bootstrap = [True, False]"
   ]
  },
  {
   "cell_type": "code",
   "execution_count": 7,
   "metadata": {},
   "outputs": [],
   "source": [
    "# Create the random grid\n",
    "random_grid = {'n_estimators': n_estimators,\n",
    "               'max_features': max_features,\n",
    "               'max_depth': max_depth,\n",
    "               'min_samples_split': min_samples_split,\n",
    "               'min_samples_leaf': min_samples_leaf,\n",
    "               'bootstrap': bootstrap}"
   ]
  },
  {
   "cell_type": "code",
   "execution_count": 8,
   "metadata": {},
   "outputs": [
    {
     "name": "stdout",
     "output_type": "stream",
     "text": [
      "{'n_estimators': [50, 55, 61, 66, 72, 77, 83, 88, 94, 100], 'max_features': ['auto', 'sqrt'], 'max_depth': [2, 3, 5, 7, 9, 11, 12, 14, 16, 18, 20, None], 'min_samples_split': [2, 5, 10], 'min_samples_leaf': [1, 2, 4], 'bootstrap': [True, False]}\n"
     ]
    }
   ],
   "source": [
    "print(random_grid)"
   ]
  },
  {
   "cell_type": "code",
   "execution_count": 9,
   "metadata": {},
   "outputs": [],
   "source": [
    "# Random search of parameters, using 10 fold cross validation, \n",
    "# search across different combinations, and use all available cores\n",
    "rfc= RandomForestRegressor()\n",
    "rf_random = RandomizedSearchCV(estimator = rfc, param_distributions = random_grid, n_iter = 100, cv = 10, verbose=2, random_state=42, n_jobs = 1)"
   ]
  },
  {
   "cell_type": "code",
   "execution_count": null,
   "metadata": {},
   "outputs": [
    {
     "name": "stdout",
     "output_type": "stream",
     "text": [
      "Fitting 10 folds for each of 100 candidates, totalling 1000 fits\n",
      "[CV] n_estimators=55, min_samples_split=5, min_samples_leaf=1, max_features=sqrt, max_depth=5, bootstrap=True \n",
      "[CV]  n_estimators=55, min_samples_split=5, min_samples_leaf=1, max_features=sqrt, max_depth=5, bootstrap=True, total=   0.0s\n",
      "[CV] n_estimators=55, min_samples_split=5, min_samples_leaf=1, max_features=sqrt, max_depth=5, bootstrap=True \n"
     ]
    },
    {
     "name": "stderr",
     "output_type": "stream",
     "text": [
      "[Parallel(n_jobs=1)]: Done   1 out of   1 | elapsed:    0.0s remaining:    0.0s\n"
     ]
    },
    {
     "name": "stdout",
     "output_type": "stream",
     "text": [
      "[CV]  n_estimators=55, min_samples_split=5, min_samples_leaf=1, max_features=sqrt, max_depth=5, bootstrap=True, total=   0.0s\n",
      "[CV] n_estimators=55, min_samples_split=5, min_samples_leaf=1, max_features=sqrt, max_depth=5, bootstrap=True \n",
      "[CV]  n_estimators=55, min_samples_split=5, min_samples_leaf=1, max_features=sqrt, max_depth=5, bootstrap=True, total=   0.0s\n",
      "[CV] n_estimators=55, min_samples_split=5, min_samples_leaf=1, max_features=sqrt, max_depth=5, bootstrap=True \n",
      "[CV]  n_estimators=55, min_samples_split=5, min_samples_leaf=1, max_features=sqrt, max_depth=5, bootstrap=True, total=   0.0s\n",
      "[CV] n_estimators=55, min_samples_split=5, min_samples_leaf=1, max_features=sqrt, max_depth=5, bootstrap=True \n",
      "[CV]  n_estimators=55, min_samples_split=5, min_samples_leaf=1, max_features=sqrt, max_depth=5, bootstrap=True, total=   0.0s\n",
      "[CV] n_estimators=55, min_samples_split=5, min_samples_leaf=1, max_features=sqrt, max_depth=5, bootstrap=True \n",
      "[CV]  n_estimators=55, min_samples_split=5, min_samples_leaf=1, max_features=sqrt, max_depth=5, bootstrap=True, total=   0.0s\n",
      "[CV] n_estimators=55, min_samples_split=5, min_samples_leaf=1, max_features=sqrt, max_depth=5, bootstrap=True \n",
      "[CV]  n_estimators=55, min_samples_split=5, min_samples_leaf=1, max_features=sqrt, max_depth=5, bootstrap=True, total=   0.0s\n",
      "[CV] n_estimators=55, min_samples_split=5, min_samples_leaf=1, max_features=sqrt, max_depth=5, bootstrap=True \n",
      "[CV]  n_estimators=55, min_samples_split=5, min_samples_leaf=1, max_features=sqrt, max_depth=5, bootstrap=True, total=   0.0s\n",
      "[CV] n_estimators=55, min_samples_split=5, min_samples_leaf=1, max_features=sqrt, max_depth=5, bootstrap=True \n",
      "[CV]  n_estimators=55, min_samples_split=5, min_samples_leaf=1, max_features=sqrt, max_depth=5, bootstrap=True, total=   0.0s\n",
      "[CV] n_estimators=55, min_samples_split=5, min_samples_leaf=1, max_features=sqrt, max_depth=5, bootstrap=True \n",
      "[CV]  n_estimators=55, min_samples_split=5, min_samples_leaf=1, max_features=sqrt, max_depth=5, bootstrap=True, total=   0.0s\n",
      "[CV] n_estimators=100, min_samples_split=5, min_samples_leaf=1, max_features=sqrt, max_depth=2, bootstrap=True \n",
      "[CV]  n_estimators=100, min_samples_split=5, min_samples_leaf=1, max_features=sqrt, max_depth=2, bootstrap=True, total=   0.1s\n",
      "[CV] n_estimators=100, min_samples_split=5, min_samples_leaf=1, max_features=sqrt, max_depth=2, bootstrap=True \n",
      "[CV]  n_estimators=100, min_samples_split=5, min_samples_leaf=1, max_features=sqrt, max_depth=2, bootstrap=True, total=   0.1s\n",
      "[CV] n_estimators=100, min_samples_split=5, min_samples_leaf=1, max_features=sqrt, max_depth=2, bootstrap=True \n",
      "[CV]  n_estimators=100, min_samples_split=5, min_samples_leaf=1, max_features=sqrt, max_depth=2, bootstrap=True, total=   0.1s\n",
      "[CV] n_estimators=100, min_samples_split=5, min_samples_leaf=1, max_features=sqrt, max_depth=2, bootstrap=True \n",
      "[CV]  n_estimators=100, min_samples_split=5, min_samples_leaf=1, max_features=sqrt, max_depth=2, bootstrap=True, total=   0.1s\n",
      "[CV] n_estimators=100, min_samples_split=5, min_samples_leaf=1, max_features=sqrt, max_depth=2, bootstrap=True \n",
      "[CV]  n_estimators=100, min_samples_split=5, min_samples_leaf=1, max_features=sqrt, max_depth=2, bootstrap=True, total=   0.1s\n",
      "[CV] n_estimators=100, min_samples_split=5, min_samples_leaf=1, max_features=sqrt, max_depth=2, bootstrap=True \n",
      "[CV]  n_estimators=100, min_samples_split=5, min_samples_leaf=1, max_features=sqrt, max_depth=2, bootstrap=True, total=   0.1s\n",
      "[CV] n_estimators=100, min_samples_split=5, min_samples_leaf=1, max_features=sqrt, max_depth=2, bootstrap=True \n",
      "[CV]  n_estimators=100, min_samples_split=5, min_samples_leaf=1, max_features=sqrt, max_depth=2, bootstrap=True, total=   0.1s\n",
      "[CV] n_estimators=100, min_samples_split=5, min_samples_leaf=1, max_features=sqrt, max_depth=2, bootstrap=True \n",
      "[CV]  n_estimators=100, min_samples_split=5, min_samples_leaf=1, max_features=sqrt, max_depth=2, bootstrap=True, total=   0.1s\n",
      "[CV] n_estimators=100, min_samples_split=5, min_samples_leaf=1, max_features=sqrt, max_depth=2, bootstrap=True \n",
      "[CV]  n_estimators=100, min_samples_split=5, min_samples_leaf=1, max_features=sqrt, max_depth=2, bootstrap=True, total=   0.1s\n",
      "[CV] n_estimators=100, min_samples_split=5, min_samples_leaf=1, max_features=sqrt, max_depth=2, bootstrap=True \n",
      "[CV]  n_estimators=100, min_samples_split=5, min_samples_leaf=1, max_features=sqrt, max_depth=2, bootstrap=True, total=   0.1s\n",
      "[CV] n_estimators=77, min_samples_split=5, min_samples_leaf=2, max_features=sqrt, max_depth=2, bootstrap=False \n",
      "[CV]  n_estimators=77, min_samples_split=5, min_samples_leaf=2, max_features=sqrt, max_depth=2, bootstrap=False, total=   0.0s\n",
      "[CV] n_estimators=77, min_samples_split=5, min_samples_leaf=2, max_features=sqrt, max_depth=2, bootstrap=False \n",
      "[CV]  n_estimators=77, min_samples_split=5, min_samples_leaf=2, max_features=sqrt, max_depth=2, bootstrap=False, total=   0.0s\n",
      "[CV] n_estimators=77, min_samples_split=5, min_samples_leaf=2, max_features=sqrt, max_depth=2, bootstrap=False \n",
      "[CV]  n_estimators=77, min_samples_split=5, min_samples_leaf=2, max_features=sqrt, max_depth=2, bootstrap=False, total=   0.0s\n",
      "[CV] n_estimators=77, min_samples_split=5, min_samples_leaf=2, max_features=sqrt, max_depth=2, bootstrap=False \n",
      "[CV]  n_estimators=77, min_samples_split=5, min_samples_leaf=2, max_features=sqrt, max_depth=2, bootstrap=False, total=   0.0s\n",
      "[CV] n_estimators=77, min_samples_split=5, min_samples_leaf=2, max_features=sqrt, max_depth=2, bootstrap=False \n",
      "[CV]  n_estimators=77, min_samples_split=5, min_samples_leaf=2, max_features=sqrt, max_depth=2, bootstrap=False, total=   0.0s\n",
      "[CV] n_estimators=77, min_samples_split=5, min_samples_leaf=2, max_features=sqrt, max_depth=2, bootstrap=False \n",
      "[CV]  n_estimators=77, min_samples_split=5, min_samples_leaf=2, max_features=sqrt, max_depth=2, bootstrap=False, total=   0.0s\n",
      "[CV] n_estimators=77, min_samples_split=5, min_samples_leaf=2, max_features=sqrt, max_depth=2, bootstrap=False \n",
      "[CV]  n_estimators=77, min_samples_split=5, min_samples_leaf=2, max_features=sqrt, max_depth=2, bootstrap=False, total=   0.0s\n",
      "[CV] n_estimators=77, min_samples_split=5, min_samples_leaf=2, max_features=sqrt, max_depth=2, bootstrap=False \n",
      "[CV]  n_estimators=77, min_samples_split=5, min_samples_leaf=2, max_features=sqrt, max_depth=2, bootstrap=False, total=   0.0s\n",
      "[CV] n_estimators=77, min_samples_split=5, min_samples_leaf=2, max_features=sqrt, max_depth=2, bootstrap=False \n",
      "[CV]  n_estimators=77, min_samples_split=5, min_samples_leaf=2, max_features=sqrt, max_depth=2, bootstrap=False, total=   0.0s\n",
      "[CV] n_estimators=77, min_samples_split=5, min_samples_leaf=2, max_features=sqrt, max_depth=2, bootstrap=False \n",
      "[CV]  n_estimators=77, min_samples_split=5, min_samples_leaf=2, max_features=sqrt, max_depth=2, bootstrap=False, total=   0.0s\n",
      "[CV] n_estimators=100, min_samples_split=2, min_samples_leaf=4, max_features=auto, max_depth=5, bootstrap=False \n",
      "[CV]  n_estimators=100, min_samples_split=2, min_samples_leaf=4, max_features=auto, max_depth=5, bootstrap=False, total=   0.2s\n",
      "[CV] n_estimators=100, min_samples_split=2, min_samples_leaf=4, max_features=auto, max_depth=5, bootstrap=False \n",
      "[CV]  n_estimators=100, min_samples_split=2, min_samples_leaf=4, max_features=auto, max_depth=5, bootstrap=False, total=   0.2s\n",
      "[CV] n_estimators=100, min_samples_split=2, min_samples_leaf=4, max_features=auto, max_depth=5, bootstrap=False \n",
      "[CV]  n_estimators=100, min_samples_split=2, min_samples_leaf=4, max_features=auto, max_depth=5, bootstrap=False, total=   0.2s\n",
      "[CV] n_estimators=100, min_samples_split=2, min_samples_leaf=4, max_features=auto, max_depth=5, bootstrap=False \n",
      "[CV]  n_estimators=100, min_samples_split=2, min_samples_leaf=4, max_features=auto, max_depth=5, bootstrap=False, total=   0.2s\n",
      "[CV] n_estimators=100, min_samples_split=2, min_samples_leaf=4, max_features=auto, max_depth=5, bootstrap=False \n",
      "[CV]  n_estimators=100, min_samples_split=2, min_samples_leaf=4, max_features=auto, max_depth=5, bootstrap=False, total=   0.2s\n",
      "[CV] n_estimators=100, min_samples_split=2, min_samples_leaf=4, max_features=auto, max_depth=5, bootstrap=False \n",
      "[CV]  n_estimators=100, min_samples_split=2, min_samples_leaf=4, max_features=auto, max_depth=5, bootstrap=False, total=   0.2s\n",
      "[CV] n_estimators=100, min_samples_split=2, min_samples_leaf=4, max_features=auto, max_depth=5, bootstrap=False \n"
     ]
    },
    {
     "name": "stdout",
     "output_type": "stream",
     "text": [
      "[CV]  n_estimators=100, min_samples_split=2, min_samples_leaf=4, max_features=auto, max_depth=5, bootstrap=False, total=   0.2s\n",
      "[CV] n_estimators=100, min_samples_split=2, min_samples_leaf=4, max_features=auto, max_depth=5, bootstrap=False \n",
      "[CV]  n_estimators=100, min_samples_split=2, min_samples_leaf=4, max_features=auto, max_depth=5, bootstrap=False, total=   0.2s\n",
      "[CV] n_estimators=100, min_samples_split=2, min_samples_leaf=4, max_features=auto, max_depth=5, bootstrap=False \n",
      "[CV]  n_estimators=100, min_samples_split=2, min_samples_leaf=4, max_features=auto, max_depth=5, bootstrap=False, total=   0.2s\n",
      "[CV] n_estimators=100, min_samples_split=2, min_samples_leaf=4, max_features=auto, max_depth=5, bootstrap=False \n",
      "[CV]  n_estimators=100, min_samples_split=2, min_samples_leaf=4, max_features=auto, max_depth=5, bootstrap=False, total=   0.2s\n",
      "[CV] n_estimators=88, min_samples_split=2, min_samples_leaf=4, max_features=sqrt, max_depth=2, bootstrap=True \n",
      "[CV]  n_estimators=88, min_samples_split=2, min_samples_leaf=4, max_features=sqrt, max_depth=2, bootstrap=True, total=   0.1s\n",
      "[CV] n_estimators=88, min_samples_split=2, min_samples_leaf=4, max_features=sqrt, max_depth=2, bootstrap=True \n",
      "[CV]  n_estimators=88, min_samples_split=2, min_samples_leaf=4, max_features=sqrt, max_depth=2, bootstrap=True, total=   0.0s\n",
      "[CV] n_estimators=88, min_samples_split=2, min_samples_leaf=4, max_features=sqrt, max_depth=2, bootstrap=True \n",
      "[CV]  n_estimators=88, min_samples_split=2, min_samples_leaf=4, max_features=sqrt, max_depth=2, bootstrap=True, total=   0.1s\n",
      "[CV] n_estimators=88, min_samples_split=2, min_samples_leaf=4, max_features=sqrt, max_depth=2, bootstrap=True \n",
      "[CV]  n_estimators=88, min_samples_split=2, min_samples_leaf=4, max_features=sqrt, max_depth=2, bootstrap=True, total=   0.1s\n",
      "[CV] n_estimators=88, min_samples_split=2, min_samples_leaf=4, max_features=sqrt, max_depth=2, bootstrap=True \n",
      "[CV]  n_estimators=88, min_samples_split=2, min_samples_leaf=4, max_features=sqrt, max_depth=2, bootstrap=True, total=   0.1s\n",
      "[CV] n_estimators=88, min_samples_split=2, min_samples_leaf=4, max_features=sqrt, max_depth=2, bootstrap=True \n",
      "[CV]  n_estimators=88, min_samples_split=2, min_samples_leaf=4, max_features=sqrt, max_depth=2, bootstrap=True, total=   0.1s\n",
      "[CV] n_estimators=88, min_samples_split=2, min_samples_leaf=4, max_features=sqrt, max_depth=2, bootstrap=True \n",
      "[CV]  n_estimators=88, min_samples_split=2, min_samples_leaf=4, max_features=sqrt, max_depth=2, bootstrap=True, total=   0.0s\n",
      "[CV] n_estimators=88, min_samples_split=2, min_samples_leaf=4, max_features=sqrt, max_depth=2, bootstrap=True \n",
      "[CV]  n_estimators=88, min_samples_split=2, min_samples_leaf=4, max_features=sqrt, max_depth=2, bootstrap=True, total=   0.1s\n",
      "[CV] n_estimators=88, min_samples_split=2, min_samples_leaf=4, max_features=sqrt, max_depth=2, bootstrap=True \n",
      "[CV]  n_estimators=88, min_samples_split=2, min_samples_leaf=4, max_features=sqrt, max_depth=2, bootstrap=True, total=   0.1s\n",
      "[CV] n_estimators=88, min_samples_split=2, min_samples_leaf=4, max_features=sqrt, max_depth=2, bootstrap=True \n",
      "[CV]  n_estimators=88, min_samples_split=2, min_samples_leaf=4, max_features=sqrt, max_depth=2, bootstrap=True, total=   0.1s\n",
      "[CV] n_estimators=66, min_samples_split=5, min_samples_leaf=4, max_features=sqrt, max_depth=5, bootstrap=False \n",
      "[CV]  n_estimators=66, min_samples_split=5, min_samples_leaf=4, max_features=sqrt, max_depth=5, bootstrap=False, total=   0.0s\n",
      "[CV] n_estimators=66, min_samples_split=5, min_samples_leaf=4, max_features=sqrt, max_depth=5, bootstrap=False \n",
      "[CV]  n_estimators=66, min_samples_split=5, min_samples_leaf=4, max_features=sqrt, max_depth=5, bootstrap=False, total=   0.0s\n",
      "[CV] n_estimators=66, min_samples_split=5, min_samples_leaf=4, max_features=sqrt, max_depth=5, bootstrap=False \n",
      "[CV]  n_estimators=66, min_samples_split=5, min_samples_leaf=4, max_features=sqrt, max_depth=5, bootstrap=False, total=   0.0s\n",
      "[CV] n_estimators=66, min_samples_split=5, min_samples_leaf=4, max_features=sqrt, max_depth=5, bootstrap=False \n",
      "[CV]  n_estimators=66, min_samples_split=5, min_samples_leaf=4, max_features=sqrt, max_depth=5, bootstrap=False, total=   0.0s\n",
      "[CV] n_estimators=66, min_samples_split=5, min_samples_leaf=4, max_features=sqrt, max_depth=5, bootstrap=False \n",
      "[CV]  n_estimators=66, min_samples_split=5, min_samples_leaf=4, max_features=sqrt, max_depth=5, bootstrap=False, total=   0.0s\n",
      "[CV] n_estimators=66, min_samples_split=5, min_samples_leaf=4, max_features=sqrt, max_depth=5, bootstrap=False \n",
      "[CV]  n_estimators=66, min_samples_split=5, min_samples_leaf=4, max_features=sqrt, max_depth=5, bootstrap=False, total=   0.0s\n",
      "[CV] n_estimators=66, min_samples_split=5, min_samples_leaf=4, max_features=sqrt, max_depth=5, bootstrap=False \n",
      "[CV]  n_estimators=66, min_samples_split=5, min_samples_leaf=4, max_features=sqrt, max_depth=5, bootstrap=False, total=   0.0s\n",
      "[CV] n_estimators=66, min_samples_split=5, min_samples_leaf=4, max_features=sqrt, max_depth=5, bootstrap=False \n",
      "[CV]  n_estimators=66, min_samples_split=5, min_samples_leaf=4, max_features=sqrt, max_depth=5, bootstrap=False, total=   0.0s\n",
      "[CV] n_estimators=66, min_samples_split=5, min_samples_leaf=4, max_features=sqrt, max_depth=5, bootstrap=False \n",
      "[CV]  n_estimators=66, min_samples_split=5, min_samples_leaf=4, max_features=sqrt, max_depth=5, bootstrap=False, total=   0.0s\n",
      "[CV] n_estimators=66, min_samples_split=5, min_samples_leaf=4, max_features=sqrt, max_depth=5, bootstrap=False \n",
      "[CV]  n_estimators=66, min_samples_split=5, min_samples_leaf=4, max_features=sqrt, max_depth=5, bootstrap=False, total=   0.0s\n",
      "[CV] n_estimators=72, min_samples_split=5, min_samples_leaf=2, max_features=sqrt, max_depth=18, bootstrap=False \n",
      "[CV]  n_estimators=72, min_samples_split=5, min_samples_leaf=2, max_features=sqrt, max_depth=18, bootstrap=False, total=   0.1s\n",
      "[CV] n_estimators=72, min_samples_split=5, min_samples_leaf=2, max_features=sqrt, max_depth=18, bootstrap=False \n",
      "[CV]  n_estimators=72, min_samples_split=5, min_samples_leaf=2, max_features=sqrt, max_depth=18, bootstrap=False, total=   0.1s\n",
      "[CV] n_estimators=72, min_samples_split=5, min_samples_leaf=2, max_features=sqrt, max_depth=18, bootstrap=False \n",
      "[CV]  n_estimators=72, min_samples_split=5, min_samples_leaf=2, max_features=sqrt, max_depth=18, bootstrap=False, total=   0.1s\n",
      "[CV] n_estimators=72, min_samples_split=5, min_samples_leaf=2, max_features=sqrt, max_depth=18, bootstrap=False \n",
      "[CV]  n_estimators=72, min_samples_split=5, min_samples_leaf=2, max_features=sqrt, max_depth=18, bootstrap=False, total=   0.0s\n",
      "[CV] n_estimators=72, min_samples_split=5, min_samples_leaf=2, max_features=sqrt, max_depth=18, bootstrap=False \n",
      "[CV]  n_estimators=72, min_samples_split=5, min_samples_leaf=2, max_features=sqrt, max_depth=18, bootstrap=False, total=   0.1s\n",
      "[CV] n_estimators=72, min_samples_split=5, min_samples_leaf=2, max_features=sqrt, max_depth=18, bootstrap=False \n",
      "[CV]  n_estimators=72, min_samples_split=5, min_samples_leaf=2, max_features=sqrt, max_depth=18, bootstrap=False, total=   0.1s\n",
      "[CV] n_estimators=72, min_samples_split=5, min_samples_leaf=2, max_features=sqrt, max_depth=18, bootstrap=False \n",
      "[CV]  n_estimators=72, min_samples_split=5, min_samples_leaf=2, max_features=sqrt, max_depth=18, bootstrap=False, total=   0.1s\n",
      "[CV] n_estimators=72, min_samples_split=5, min_samples_leaf=2, max_features=sqrt, max_depth=18, bootstrap=False \n",
      "[CV]  n_estimators=72, min_samples_split=5, min_samples_leaf=2, max_features=sqrt, max_depth=18, bootstrap=False, total=   0.0s\n",
      "[CV] n_estimators=72, min_samples_split=5, min_samples_leaf=2, max_features=sqrt, max_depth=18, bootstrap=False \n",
      "[CV]  n_estimators=72, min_samples_split=5, min_samples_leaf=2, max_features=sqrt, max_depth=18, bootstrap=False, total=   0.1s\n",
      "[CV] n_estimators=72, min_samples_split=5, min_samples_leaf=2, max_features=sqrt, max_depth=18, bootstrap=False \n",
      "[CV]  n_estimators=72, min_samples_split=5, min_samples_leaf=2, max_features=sqrt, max_depth=18, bootstrap=False, total=   0.1s\n",
      "[CV] n_estimators=61, min_samples_split=5, min_samples_leaf=1, max_features=sqrt, max_depth=11, bootstrap=False \n",
      "[CV]  n_estimators=61, min_samples_split=5, min_samples_leaf=1, max_features=sqrt, max_depth=11, bootstrap=False, total=   0.0s\n",
      "[CV] n_estimators=61, min_samples_split=5, min_samples_leaf=1, max_features=sqrt, max_depth=11, bootstrap=False \n",
      "[CV]  n_estimators=61, min_samples_split=5, min_samples_leaf=1, max_features=sqrt, max_depth=11, bootstrap=False, total=   0.0s\n",
      "[CV] n_estimators=61, min_samples_split=5, min_samples_leaf=1, max_features=sqrt, max_depth=11, bootstrap=False \n"
     ]
    },
    {
     "name": "stdout",
     "output_type": "stream",
     "text": [
      "[CV]  n_estimators=61, min_samples_split=5, min_samples_leaf=1, max_features=sqrt, max_depth=11, bootstrap=False, total=   0.0s\n",
      "[CV] n_estimators=61, min_samples_split=5, min_samples_leaf=1, max_features=sqrt, max_depth=11, bootstrap=False \n",
      "[CV]  n_estimators=61, min_samples_split=5, min_samples_leaf=1, max_features=sqrt, max_depth=11, bootstrap=False, total=   0.1s\n",
      "[CV] n_estimators=61, min_samples_split=5, min_samples_leaf=1, max_features=sqrt, max_depth=11, bootstrap=False \n",
      "[CV]  n_estimators=61, min_samples_split=5, min_samples_leaf=1, max_features=sqrt, max_depth=11, bootstrap=False, total=   0.0s\n",
      "[CV] n_estimators=61, min_samples_split=5, min_samples_leaf=1, max_features=sqrt, max_depth=11, bootstrap=False \n",
      "[CV]  n_estimators=61, min_samples_split=5, min_samples_leaf=1, max_features=sqrt, max_depth=11, bootstrap=False, total=   0.0s\n",
      "[CV] n_estimators=61, min_samples_split=5, min_samples_leaf=1, max_features=sqrt, max_depth=11, bootstrap=False \n",
      "[CV]  n_estimators=61, min_samples_split=5, min_samples_leaf=1, max_features=sqrt, max_depth=11, bootstrap=False, total=   0.1s\n",
      "[CV] n_estimators=61, min_samples_split=5, min_samples_leaf=1, max_features=sqrt, max_depth=11, bootstrap=False \n",
      "[CV]  n_estimators=61, min_samples_split=5, min_samples_leaf=1, max_features=sqrt, max_depth=11, bootstrap=False, total=   0.1s\n",
      "[CV] n_estimators=61, min_samples_split=5, min_samples_leaf=1, max_features=sqrt, max_depth=11, bootstrap=False \n",
      "[CV]  n_estimators=61, min_samples_split=5, min_samples_leaf=1, max_features=sqrt, max_depth=11, bootstrap=False, total=   0.1s\n",
      "[CV] n_estimators=61, min_samples_split=5, min_samples_leaf=1, max_features=sqrt, max_depth=11, bootstrap=False \n",
      "[CV]  n_estimators=61, min_samples_split=5, min_samples_leaf=1, max_features=sqrt, max_depth=11, bootstrap=False, total=   0.0s\n",
      "[CV] n_estimators=72, min_samples_split=2, min_samples_leaf=1, max_features=auto, max_depth=9, bootstrap=False \n",
      "[CV]  n_estimators=72, min_samples_split=2, min_samples_leaf=1, max_features=auto, max_depth=9, bootstrap=False, total=   0.2s\n",
      "[CV] n_estimators=72, min_samples_split=2, min_samples_leaf=1, max_features=auto, max_depth=9, bootstrap=False \n",
      "[CV]  n_estimators=72, min_samples_split=2, min_samples_leaf=1, max_features=auto, max_depth=9, bootstrap=False, total=   0.3s\n",
      "[CV] n_estimators=72, min_samples_split=2, min_samples_leaf=1, max_features=auto, max_depth=9, bootstrap=False \n",
      "[CV]  n_estimators=72, min_samples_split=2, min_samples_leaf=1, max_features=auto, max_depth=9, bootstrap=False, total=   0.2s\n",
      "[CV] n_estimators=72, min_samples_split=2, min_samples_leaf=1, max_features=auto, max_depth=9, bootstrap=False \n",
      "[CV]  n_estimators=72, min_samples_split=2, min_samples_leaf=1, max_features=auto, max_depth=9, bootstrap=False, total=   0.3s\n",
      "[CV] n_estimators=72, min_samples_split=2, min_samples_leaf=1, max_features=auto, max_depth=9, bootstrap=False \n",
      "[CV]  n_estimators=72, min_samples_split=2, min_samples_leaf=1, max_features=auto, max_depth=9, bootstrap=False, total=   0.2s\n",
      "[CV] n_estimators=72, min_samples_split=2, min_samples_leaf=1, max_features=auto, max_depth=9, bootstrap=False \n",
      "[CV]  n_estimators=72, min_samples_split=2, min_samples_leaf=1, max_features=auto, max_depth=9, bootstrap=False, total=   0.2s\n",
      "[CV] n_estimators=72, min_samples_split=2, min_samples_leaf=1, max_features=auto, max_depth=9, bootstrap=False \n",
      "[CV]  n_estimators=72, min_samples_split=2, min_samples_leaf=1, max_features=auto, max_depth=9, bootstrap=False, total=   0.2s\n",
      "[CV] n_estimators=72, min_samples_split=2, min_samples_leaf=1, max_features=auto, max_depth=9, bootstrap=False \n",
      "[CV]  n_estimators=72, min_samples_split=2, min_samples_leaf=1, max_features=auto, max_depth=9, bootstrap=False, total=   0.3s\n",
      "[CV] n_estimators=72, min_samples_split=2, min_samples_leaf=1, max_features=auto, max_depth=9, bootstrap=False \n",
      "[CV]  n_estimators=72, min_samples_split=2, min_samples_leaf=1, max_features=auto, max_depth=9, bootstrap=False, total=   0.2s\n",
      "[CV] n_estimators=72, min_samples_split=2, min_samples_leaf=1, max_features=auto, max_depth=9, bootstrap=False \n",
      "[CV]  n_estimators=72, min_samples_split=2, min_samples_leaf=1, max_features=auto, max_depth=9, bootstrap=False, total=   0.3s\n",
      "[CV] n_estimators=94, min_samples_split=5, min_samples_leaf=4, max_features=auto, max_depth=2, bootstrap=False \n",
      "[CV]  n_estimators=94, min_samples_split=5, min_samples_leaf=4, max_features=auto, max_depth=2, bootstrap=False, total=   0.1s\n",
      "[CV] n_estimators=94, min_samples_split=5, min_samples_leaf=4, max_features=auto, max_depth=2, bootstrap=False \n"
     ]
    }
   ],
   "source": [
    "rf_random.fit(X_train,Y_train)"
   ]
  },
  {
   "cell_type": "code",
   "execution_count": null,
   "metadata": {},
   "outputs": [],
   "source": [
    "print(rf_random.best_params_)"
   ]
  },
  {
   "cell_type": "code",
   "execution_count": null,
   "metadata": {},
   "outputs": [],
   "source": [
    "# The above parameters are the best one to fit the model and predict"
   ]
  },
  {
   "cell_type": "code",
   "execution_count": null,
   "metadata": {},
   "outputs": [],
   "source": [
    "rf_random.predict(X_test)"
   ]
  },
  {
   "cell_type": "code",
   "execution_count": null,
   "metadata": {},
   "outputs": [],
   "source": [
    "rf_random.score(X_test,Y_test)"
   ]
  },
  {
   "cell_type": "code",
   "execution_count": null,
   "metadata": {},
   "outputs": [],
   "source": [
    "#However when we tried to tune the hyperparameters using randomised search cross validation, the acuracy ranged from 83.05- 87.689%\n",
    "#Random search tries random combinations of a range of values (we have to define the number iterations). \n",
    "#It is good in testing a wide range of values and normally it reaches a very good combination very fast, but the problem that \n",
    "#it doesn’t guarantee to give the best parameters combination."
   ]
  },
  {
   "cell_type": "code",
   "execution_count": null,
   "metadata": {},
   "outputs": [],
   "source": [
    "# GridSearchCv is a option to get the best parameter combination but it can take a lot of time."
   ]
  },
  {
   "cell_type": "code",
   "execution_count": null,
   "metadata": {},
   "outputs": [],
   "source": [
    "# using the same set of hypermeters and range to evaluate :\n",
    "# Hyperparameters using GridSearchCv\n",
    "n_estimators = [int(x) for x in np.linspace(start = 50, stop = 100, num = 10)]\n",
    "# Number of features to consider at every split\n",
    "max_features = ['auto', 'sqrt']\n",
    "# Maximum number of levels in tree\n",
    "max_depth = [int(x) for x in np.linspace(2, 20, num = 11)]\n",
    "max_depth.append(None)\n",
    "# Minimum number of samples required to split a node\n",
    "min_samples_split = [2, 5, 10]\n",
    "# Minimum number of samples required at each leaf node\n",
    "min_samples_leaf = [1, 2, 4]\n",
    "# Method of selecting samples for training each tree\n",
    "bootstrap = [True, False]"
   ]
  },
  {
   "cell_type": "code",
   "execution_count": null,
   "metadata": {},
   "outputs": [],
   "source": [
    "gsc = GridSearchCV(estimator=RandomForestRegressor(),\n",
    "param_grid = {'n_estimators': n_estimators,\n",
    "               'max_features': max_features,\n",
    "               'max_depth': max_depth,\n",
    "               'min_samples_split': min_samples_split,\n",
    "               'min_samples_leaf': min_samples_leaf,\n",
    "               'bootstrap': bootstrap},\n",
    "                cv = 10, verbose=2, n_jobs = 1)"
   ]
  },
  {
   "cell_type": "code",
   "execution_count": null,
   "metadata": {},
   "outputs": [],
   "source": [
    "grid_result = gsc.fit(X_train,Y_train)\n",
    "   "
   ]
  },
  {
   "cell_type": "code",
   "execution_count": null,
   "metadata": {},
   "outputs": [],
   "source": [
    " best_params = grid_result.best_params_"
   ]
  },
  {
   "cell_type": "code",
   "execution_count": null,
   "metadata": {},
   "outputs": [],
   "source": [
    "print(best_params)"
   ]
  },
  {
   "cell_type": "code",
   "execution_count": null,
   "metadata": {},
   "outputs": [],
   "source": [
    "gsc.predict(X_test)"
   ]
  },
  {
   "cell_type": "code",
   "execution_count": null,
   "metadata": {},
   "outputs": [],
   "source": [
    "gsc.score(X_test,Y_test)"
   ]
  },
  {
   "cell_type": "code",
   "execution_count": null,
   "metadata": {},
   "outputs": [],
   "source": []
  }
 ],
 "metadata": {
  "kernelspec": {
   "display_name": "Python 3",
   "language": "python",
   "name": "python3"
  },
  "language_info": {
   "codemirror_mode": {
    "name": "ipython",
    "version": 3
   },
   "file_extension": ".py",
   "mimetype": "text/x-python",
   "name": "python",
   "nbconvert_exporter": "python",
   "pygments_lexer": "ipython3",
   "version": "3.6.5"
  }
 },
 "nbformat": 4,
 "nbformat_minor": 2
}
